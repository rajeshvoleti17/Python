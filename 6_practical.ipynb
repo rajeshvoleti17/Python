{
 "cells": [
  {
   "cell_type": "code",
   "execution_count": 12,
   "id": "db8e0096-ea8a-4c61-97de-e98b4c6ccd9e",
   "metadata": {},
   "outputs": [],
   "source": [
    "import numpy as np\n",
    "import pandas as pd\n",
    "import matplotlib.pyplot as plt\n",
    "# importing all the libraries"
   ]
  },
  {
   "cell_type": "code",
   "execution_count": 38,
   "id": "582dc41a-71d6-4b8b-b8a9-11ebaa1e714c",
   "metadata": {},
   "outputs": [],
   "source": [
    "df=pd.read_csv(\"6prac.csv\")\n",
    "# Here We are importing a CSV file data set "
   ]
  },
  {
   "cell_type": "code",
   "execution_count": 39,
   "id": "504a5390-5b8a-49bc-86cf-89b9eb19aeb2",
   "metadata": {},
   "outputs": [
    {
     "name": "stdout",
     "output_type": "stream",
     "text": [
      "   sub1  sub 2  sub 3\n",
      "0    12     10      9\n",
      "1    13     11      6\n",
      "2    14     14     14\n",
      "3    15     12     16\n",
      "4    16     19     13\n",
      "5    17     17     16\n"
     ]
    }
   ],
   "source": [
    "print(df)\n",
    "#here we are printing the csv file"
   ]
  },
  {
   "cell_type": "code",
   "execution_count": 24,
   "id": "bc023ec9-05ea-42d5-9313-136d2c829ff4",
   "metadata": {},
   "outputs": [
    {
     "data": {
      "text/plain": [
       "<AxesSubplot:>"
      ]
     },
     "execution_count": 24,
     "metadata": {},
     "output_type": "execute_result"
    },
    {
     "data": {
      "image/png": "[encoded data removed]",
      "text/plain": [
       "<Figure size 432x288 with 1 Axes>"
      ]
     },
     "metadata": {
      "needs_background": "light"
     },
     "output_type": "display_data"
    }
   ],
   "source": [
    "df.plot(kind = 'bar')\n",
    "# In this line of code we are visualising the code in bar plot \n",
    "#df.plot --> syntax in pandas for plotting\n",
    "# kind = '' --> here and all we need to fix the type of plot"
   ]
  },
  {
   "cell_type": "code",
   "execution_count": 40,
   "id": "19563ed1-7d1e-437d-b165-4ee58d89650d",
   "metadata": {},
   "outputs": [],
   "source": [
    "def absolute_maximum_scale(series):\n",
    "    return series / series.abs().max()\n",
    "# example : here max value in series sub1 is 17\n",
    "# 12/17=0.705882\n",
    "# The general formula for absolute max scale is series divided by the maximum value in series so to \n",
    "# extract max value in series we are using series.abs().max()\n",
    "\n",
    "for col in df.columns:\n",
    "    df[col] = absolute_maximum_scale(df[col])\n",
    "#to do this formula for each column we need to use this loop"
   ]
  },
  {
   "cell_type": "code",
   "execution_count": 41,
   "id": "8440918b-71ae-45c5-9a15-ac273331aeb3",
   "metadata": {},
   "outputs": [
    {
     "data": {
      "text/html": [
       "<div>\n",
       "<style scoped>\n",
       "    .dataframe tbody tr th:only-of-type {\n",
       "        vertical-align: middle;\n",
       "    }\n",
       "\n",
       "    .dataframe tbody tr th {\n",
       "        vertical-align: top;\n",
       "    }\n",
       "\n",
       "    .dataframe thead th {\n",
       "        text-align: right;\n",
       "    }\n",
       "</style>\n",
       "<table border=\"1\" class=\"dataframe\">\n",
       "  <thead>\n",
       "    <tr style=\"text-align: right;\">\n",
       "      <th></th>\n",
       "      <th>sub1</th>\n",
       "      <th>sub 2</th>\n",
       "      <th>sub 3</th>\n",
       "    </tr>\n",
       "  </thead>\n",
       "  <tbody>\n",
       "    <tr>\n",
       "      <th>0</th>\n",
       "      <td>0.705882</td>\n",
       "      <td>0.526316</td>\n",
       "      <td>0.5625</td>\n",
       "    </tr>\n",
       "    <tr>\n",
       "      <th>1</th>\n",
       "      <td>0.764706</td>\n",
       "      <td>0.578947</td>\n",
       "      <td>0.3750</td>\n",
       "    </tr>\n",
       "    <tr>\n",
       "      <th>2</th>\n",
       "      <td>0.823529</td>\n",
       "      <td>0.736842</td>\n",
       "      <td>0.8750</td>\n",
       "    </tr>\n",
       "    <tr>\n",
       "      <th>3</th>\n",
       "      <td>0.882353</td>\n",
       "      <td>0.631579</td>\n",
       "      <td>1.0000</td>\n",
       "    </tr>\n",
       "    <tr>\n",
       "      <th>4</th>\n",
       "      <td>0.941176</td>\n",
       "      <td>1.000000</td>\n",
       "      <td>0.8125</td>\n",
       "    </tr>\n",
       "    <tr>\n",
       "      <th>5</th>\n",
       "      <td>1.000000</td>\n",
       "      <td>0.894737</td>\n",
       "      <td>1.0000</td>\n",
       "    </tr>\n",
       "  </tbody>\n",
       "</table>\n",
       "</div>"
      ],
      "text/plain": [
       "       sub1     sub 2   sub 3\n",
       "0  0.705882  0.526316  0.5625\n",
       "1  0.764706  0.578947  0.3750\n",
       "2  0.823529  0.736842  0.8750\n",
       "3  0.882353  0.631579  1.0000\n",
       "4  0.941176  1.000000  0.8125\n",
       "5  1.000000  0.894737  1.0000"
      ]
     },
     "execution_count": 41,
     "metadata": {},
     "output_type": "execute_result"
    }
   ],
   "source": [
    "df\n",
    "#printing the result"
   ]
  },
  {
   "cell_type": "code",
   "execution_count": 27,
   "id": "f002104a-e7e9-4d86-b267-3f2774df1ef7",
   "metadata": {},
   "outputs": [
    {
     "data": {
      "text/plain": [
       "<AxesSubplot:>"
      ]
     },
     "execution_count": 27,
     "metadata": {},
     "output_type": "execute_result"
    },
    {
     "data": {
      "image/png": "[encoded data removed]",
      "text/plain": [
       "<Figure size 432x288 with 1 Axes>"
      ]
     },
     "metadata": {
      "needs_background": "light"
     },
     "output_type": "display_data"
    }
   ],
   "source": [
    "df.plot(kind = 'bar')\n",
    "#for plotting the abs max scale result"
   ]
  },
  {
   "cell_type": "code",
   "execution_count": 42,
   "id": "d2f63988-b746-494a-9bcc-0ca3a045b16f",
   "metadata": {},
   "outputs": [
    {
     "name": "stdout",
     "output_type": "stream",
     "text": [
      "   sub1     sub 2  sub 3\n",
      "0   0.0  0.000000    0.3\n",
      "1   0.2  0.111111    0.0\n",
      "2   0.4  0.444444    0.8\n",
      "3   0.6  0.222222    1.0\n",
      "4   0.8  1.000000    0.7\n"
     ]
    }
   ],
   "source": [
    "def min_max_scaling(series):\n",
    "    return (series - series.min()) / (series.max() - series.min())\n",
    "#this is general formula for min max scaling \n",
    "#example : min=12,max=17\n",
    "#(12-12)/(17-12)=0\n",
    "\n",
    "for col in df.columns:\n",
    "    df[col] = min_max_scaling(df[col])\n",
    "# this is to be done on all the columns \n",
    "\n",
    "print(df.head())\n",
    "#printing the head values"
   ]
  },
  {
   "cell_type": "code",
   "execution_count": 43,
   "id": "72ea42e0-8d16-4c2f-aabd-d33fc26294c1",
   "metadata": {},
   "outputs": [
    {
     "data": {
      "text/plain": [
       "<AxesSubplot:>"
      ]
     },
     "execution_count": 43,
     "metadata": {},
     "output_type": "execute_result"
    },
    {
     "data": {
      "image/png": "[encoded data removed]",
      "text/plain": [
       "<Figure size 432x288 with 1 Axes>"
      ]
     },
     "metadata": {
      "needs_background": "light"
     },
     "output_type": "display_data"
    }
   ],
   "source": [
    "df.plot(kind = 'bar')"
   ]
  },
  {
   "cell_type": "code",
   "execution_count": 44,
   "id": "a4cc3555-d264-4da5-95e5-34c6e1c65683",
   "metadata": {},
   "outputs": [],
   "source": [
    "def z_score_standardization(series):\n",
    "    return (series - series.mean()) / series.std()\n",
    "#formula for z score standardization\n",
    "#same as above\n",
    "\n",
    "for col in df.columns:\n",
    "    df[col] = z_score_standardization(df[col])\n",
    "# applying the formula"
   ]
  },
  {
   "cell_type": "code",
   "execution_count": 45,
   "id": "ea6169fe-fe3a-44d8-b011-65607d7311d1",
   "metadata": {},
   "outputs": [
    {
     "data": {
      "text/html": [
       "<div>\n",
       "<style scoped>\n",
       "    .dataframe tbody tr th:only-of-type {\n",
       "        vertical-align: middle;\n",
       "    }\n",
       "\n",
       "    .dataframe tbody tr th {\n",
       "        vertical-align: top;\n",
       "    }\n",
       "\n",
       "    .dataframe thead th {\n",
       "        text-align: right;\n",
       "    }\n",
       "</style>\n",
       "<table border=\"1\" class=\"dataframe\">\n",
       "  <thead>\n",
       "    <tr style=\"text-align: right;\">\n",
       "      <th></th>\n",
       "      <th>sub1</th>\n",
       "      <th>sub 2</th>\n",
       "      <th>sub 3</th>\n",
       "    </tr>\n",
       "  </thead>\n",
       "  <tbody>\n",
       "    <tr>\n",
       "      <th>0</th>\n",
       "      <td>-1.336306</td>\n",
       "      <td>-1.081351</td>\n",
       "      <td>-0.826475</td>\n",
       "    </tr>\n",
       "    <tr>\n",
       "      <th>1</th>\n",
       "      <td>-0.801784</td>\n",
       "      <td>-0.799259</td>\n",
       "      <td>-1.570302</td>\n",
       "    </tr>\n",
       "    <tr>\n",
       "      <th>2</th>\n",
       "      <td>-0.267261</td>\n",
       "      <td>0.047015</td>\n",
       "      <td>0.413237</td>\n",
       "    </tr>\n",
       "    <tr>\n",
       "      <th>3</th>\n",
       "      <td>0.267261</td>\n",
       "      <td>-0.517168</td>\n",
       "      <td>0.909122</td>\n",
       "    </tr>\n",
       "    <tr>\n",
       "      <th>4</th>\n",
       "      <td>0.801784</td>\n",
       "      <td>1.457473</td>\n",
       "      <td>0.165295</td>\n",
       "    </tr>\n",
       "    <tr>\n",
       "      <th>5</th>\n",
       "      <td>1.336306</td>\n",
       "      <td>0.893290</td>\n",
       "      <td>0.909122</td>\n",
       "    </tr>\n",
       "  </tbody>\n",
       "</table>\n",
       "</div>"
      ],
      "text/plain": [
       "       sub1     sub 2     sub 3\n",
       "0 -1.336306 -1.081351 -0.826475\n",
       "1 -0.801784 -0.799259 -1.570302\n",
       "2 -0.267261  0.047015  0.413237\n",
       "3  0.267261 -0.517168  0.909122\n",
       "4  0.801784  1.457473  0.165295\n",
       "5  1.336306  0.893290  0.909122"
      ]
     },
     "execution_count": 45,
     "metadata": {},
     "output_type": "execute_result"
    }
   ],
   "source": [
    "df"
   ]
  },
  {
   "cell_type": "code",
   "execution_count": 46,
   "id": "411fc57e-18da-4d63-ac07-b87436f8d570",
   "metadata": {},
   "outputs": [
    {
     "data": {
      "text/plain": [
       "<AxesSubplot:>"
      ]
     },
     "execution_count": 46,
     "metadata": {},
     "output_type": "execute_result"
    },
    {
     "data": {
      "image/png": "[encoded data removed]",
      "text/plain": [
       "<Figure size 432x288 with 1 Axes>"
      ]
     },
     "metadata": {
      "needs_background": "light"
     },
     "output_type": "display_data"
    }
   ],
   "source": [
    "df.plot(kind = 'bar')"
   ]
  },
  {
   "cell_type": "code",
   "execution_count": null,
   "id": "439e3ec3-61ab-41c7-ab78-0e7ef71ec470",
   "metadata": {},
   "outputs": [],
   "source": []
  }
 ],
 "metadata": {
  "kernelspec": {
   "display_name": "Python 3 (ipykernel)",
   "language": "python",
   "name": "python3"
  },
  "language_info": {
   "codemirror_mode": {
    "name": "ipython",
    "version": 3
   },
   "file_extension": ".py",
   "mimetype": "text/x-python",
   "name": "python",
   "nbconvert_exporter": "python",
   "pygments_lexer": "ipython3",
   "version": "3.9.12"
  }
 },
 "nbformat": 4,
 "nbformat_minor": 5
}
