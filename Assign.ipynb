{
 "cells": [
  {
   "cell_type": "markdown",
   "id": "0e42dfc3-1e73-41e3-95da-b806442a698e",
   "metadata": {},
   "source": [
    "import pandas as pd\n",
    "import numpy as np\n",
    "\n",
    "data = {\n",
    "    'Area': [1500, 1800, 2200, 1800, np.nan, 2000, 1600, 1900, 1700, 2100],\n",
    "    'Bedrooms': [3, 3, 4, 2, 2, 3, 2, 4, 3, 3],\n",
    "    'Bathrooms': [2, 2, 3, 2, 1, 2, 1, 3, np.nan, 2],\n",
    "    'Age': [15, 10, 8, np.nan, 6, 5, 12, 14, 7, 9],\n",
    "    'Electricity_bill': [100, 110, np.nan, 120, 90, 130, 80, 140, 95, 115]\n",
    "}\n",
    "\n",
    "df = pd.DataFrame(data)\n",
    "print(df)\n"
   ]
  },
  {
   "cell_type": "markdown",
   "id": "72f91fec-1abb-4c56-99ad-ef86862214bb",
   "metadata": {},
   "source": [
    "Created Data Fra"
   ]
  },
  {
   "cell_type": "code",
   "execution_count": 10,
   "id": "67c21c7f-0eef-43f4-a050-f14df2c3cf62",
   "metadata": {},
   "outputs": [],
   "source": [
    "new=df.dropna()"
   ]
  },
  {
   "cell_type": "code",
   "execution_count": null,
   "id": "ab315096-f507-4688-a4b4-ade43b06f96d",
   "metadata": {},
   "outputs": [],
   "source": [
    "print(new)"
   ]
  },
  {
   "cell_type": "code",
   "execution_count": 19,
   "id": "3df5782f-01b0-4417-b551-da5fd39027d3",
   "metadata": {},
   "outputs": [],
   "source": [
    "raj=df.fillna(df['Bedrooms'].mean())"
   ]
  },
  {
   "cell_type": "code",
   "execution_count": 20,
   "id": "f1e16236-7887-4de5-9403-227da03295dc",
   "metadata": {},
   "outputs": [
    {
     "name": "stdout",
     "output_type": "stream",
     "text": [
      "     Area  Bedrooms  Bathrooms   Age  Electricity_bill\n",
      "0  1500.0         3        2.0  15.0             100.0\n",
      "1  1800.0         3        2.0  10.0             110.0\n",
      "2  2200.0         4        3.0   8.0               2.9\n",
      "3  1800.0         2        2.0   2.9             120.0\n",
      "4     2.9         2        1.0   6.0              90.0\n",
      "5  2000.0         3        2.0   5.0             130.0\n",
      "6  1600.0         2        1.0  12.0              80.0\n",
      "7  1900.0         4        3.0  14.0             140.0\n",
      "8  1700.0         3        2.9   7.0              95.0\n",
      "9  2100.0         3        2.0   9.0             115.0\n"
     ]
    }
   ],
   "source": [
    "print(raj)"
   ]
  },
  {
   "cell_type": "code",
   "execution_count": 25,
   "id": "6a204bdf-73fa-4b91-956f-f8dedbd97562",
   "metadata": {},
   "outputs": [],
   "source": [
    "rajesh=df.fillna(df['Bathrooms'].mode())"
   ]
  },
  {
   "cell_type": "code",
   "execution_count": 26,
   "id": "184e02a3-4654-4cb7-b861-c3af609cd054",
   "metadata": {},
   "outputs": [
    {
     "name": "stdout",
     "output_type": "stream",
     "text": [
      "     Area  Bedrooms  Bathrooms   Age  Electricity_bill\n",
      "0  1500.0         3        2.0  15.0             100.0\n",
      "1  1800.0         3        2.0  10.0             110.0\n",
      "2  2200.0         4        3.0   8.0               NaN\n",
      "3  1800.0         2        2.0   NaN             120.0\n",
      "4     NaN         2        1.0   6.0              90.0\n",
      "5  2000.0         3        2.0   5.0             130.0\n",
      "6  1600.0         2        1.0  12.0              80.0\n",
      "7  1900.0         4        3.0  14.0             140.0\n",
      "8  1700.0         3        NaN   7.0              95.0\n",
      "9  2100.0         3        2.0   9.0             115.0\n"
     ]
    }
   ],
   "source": [
    "print(rajesh)"
   ]
  },
  {
   "cell_type": "code",
   "execution_count": 27,
   "id": "f3fb245a-84a2-4bb2-b98a-1fb5004fa33b",
   "metadata": {},
   "outputs": [],
   "source": [
    "rajeshwar=df.fillna(df['Bedrooms'].median())"
   ]
  },
  {
   "cell_type": "code",
   "execution_count": 28,
   "id": "0d772d43-c323-463e-9562-1f5250054e31",
   "metadata": {},
   "outputs": [
    {
     "name": "stdout",
     "output_type": "stream",
     "text": [
      "     Area  Bedrooms  Bathrooms   Age  Electricity_bill\n",
      "0  1500.0         3        2.0  15.0             100.0\n",
      "1  1800.0         3        2.0  10.0             110.0\n",
      "2  2200.0         4        3.0   8.0               3.0\n",
      "3  1800.0         2        2.0   3.0             120.0\n",
      "4     3.0         2        1.0   6.0              90.0\n",
      "5  2000.0         3        2.0   5.0             130.0\n",
      "6  1600.0         2        1.0  12.0              80.0\n",
      "7  1900.0         4        3.0  14.0             140.0\n",
      "8  1700.0         3        3.0   7.0              95.0\n",
      "9  2100.0         3        2.0   9.0             115.0\n"
     ]
    }
   ],
   "source": [
    "print(rajeshwar)"
   ]
  },
  {
   "cell_type": "code",
   "execution_count": 29,
   "id": "40285f51-f487-4d27-a40e-c10c85931531",
   "metadata": {},
   "outputs": [],
   "source": [
    "rajj=df.replace(3,5)"
   ]
  },
  {
   "cell_type": "code",
   "execution_count": 30,
   "id": "a0d369fc-9655-4512-a38b-dbd8991668ab",
   "metadata": {},
   "outputs": [
    {
     "name": "stdout",
     "output_type": "stream",
     "text": [
      "     Area  Bedrooms  Bathrooms   Age  Electricity_bill\n",
      "0  1500.0         5        2.0  15.0             100.0\n",
      "1  1800.0         5        2.0  10.0             110.0\n",
      "2  2200.0         4        5.0   8.0               NaN\n",
      "3  1800.0         2        2.0   NaN             120.0\n",
      "4     NaN         2        1.0   6.0              90.0\n",
      "5  2000.0         5        2.0   5.0             130.0\n",
      "6  1600.0         2        1.0  12.0              80.0\n",
      "7  1900.0         4        5.0  14.0             140.0\n",
      "8  1700.0         5        NaN   7.0              95.0\n",
      "9  2100.0         5        2.0   9.0             115.0\n"
     ]
    }
   ],
   "source": [
    "print(rajj)"
   ]
  },
  {
   "cell_type": "code",
   "execution_count": 31,
   "id": "39aa7d30-324f-4116-8fa0-c0449b5c9660",
   "metadata": {},
   "outputs": [
    {
     "data": {
      "text/html": [
       "<div>\n",
       "<style scoped>\n",
       "    .dataframe tbody tr th:only-of-type {\n",
       "        vertical-align: middle;\n",
       "    }\n",
       "\n",
       "    .dataframe tbody tr th {\n",
       "        vertical-align: top;\n",
       "    }\n",
       "\n",
       "    .dataframe thead th {\n",
       "        text-align: right;\n",
       "    }\n",
       "</style>\n",
       "<table border=\"1\" class=\"dataframe\">\n",
       "  <thead>\n",
       "    <tr style=\"text-align: right;\">\n",
       "      <th></th>\n",
       "      <th>Area</th>\n",
       "      <th>Bedrooms</th>\n",
       "      <th>Bathrooms</th>\n",
       "      <th>Age</th>\n",
       "      <th>Electricity_bill</th>\n",
       "    </tr>\n",
       "  </thead>\n",
       "  <tbody>\n",
       "    <tr>\n",
       "      <th>0</th>\n",
       "      <td>1500.0</td>\n",
       "      <td>3</td>\n",
       "      <td>2.0</td>\n",
       "      <td>15.0</td>\n",
       "      <td>100.0</td>\n",
       "    </tr>\n",
       "    <tr>\n",
       "      <th>1</th>\n",
       "      <td>1800.0</td>\n",
       "      <td>3</td>\n",
       "      <td>2.0</td>\n",
       "      <td>10.0</td>\n",
       "      <td>110.0</td>\n",
       "    </tr>\n",
       "    <tr>\n",
       "      <th>2</th>\n",
       "      <td>2200.0</td>\n",
       "      <td>4</td>\n",
       "      <td>3.0</td>\n",
       "      <td>8.0</td>\n",
       "      <td>NaN</td>\n",
       "    </tr>\n",
       "    <tr>\n",
       "      <th>3</th>\n",
       "      <td>1800.0</td>\n",
       "      <td>2</td>\n",
       "      <td>2.0</td>\n",
       "      <td>NaN</td>\n",
       "      <td>120.0</td>\n",
       "    </tr>\n",
       "    <tr>\n",
       "      <th>4</th>\n",
       "      <td>NaN</td>\n",
       "      <td>2</td>\n",
       "      <td>1.0</td>\n",
       "      <td>6.0</td>\n",
       "      <td>90.0</td>\n",
       "    </tr>\n",
       "  </tbody>\n",
       "</table>\n",
       "</div>"
      ],
      "text/plain": [
       "     Area  Bedrooms  Bathrooms   Age  Electricity_bill\n",
       "0  1500.0         3        2.0  15.0             100.0\n",
       "1  1800.0         3        2.0  10.0             110.0\n",
       "2  2200.0         4        3.0   8.0               NaN\n",
       "3  1800.0         2        2.0   NaN             120.0\n",
       "4     NaN         2        1.0   6.0              90.0"
      ]
     },
     "execution_count": 31,
     "metadata": {},
     "output_type": "execute_result"
    }
   ],
   "source": [
    "df.head()"
   ]
  },
  {
   "cell_type": "code",
   "execution_count": null,
   "id": "8fc2dc1e-6cf9-4e43-8b69-b67b6315e3d1",
   "metadata": {},
   "outputs": [],
   "source": []
  },
  {
   "cell_type": "code",
   "execution_count": null,
   "id": "5358f117-3397-48c2-a810-4d50ec4516af",
   "metadata": {},
   "outputs": [],
   "source": []
  }
 ],
 "metadata": {
  "kernelspec": {
   "display_name": "Python 3 (ipykernel)",
   "language": "python",
   "name": "python3"
  },
  "language_info": {
   "codemirror_mode": {
    "name": "ipython",
    "version": 3
   },
   "file_extension": ".py",
   "mimetype": "text/x-python",
   "name": "python",
   "nbconvert_exporter": "python",
   "pygments_lexer": "ipython3",
   "version": "3.9.12"
  }
 },
 "nbformat": 4,
 "nbformat_minor": 5
}
