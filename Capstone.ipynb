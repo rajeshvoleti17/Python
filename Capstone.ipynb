{
 "cells": [
  {
   "cell_type": "markdown",
   "id": "ae96d50e-6a0d-45be-a93d-390f85219c84",
   "metadata": {},
   "source": [
    "Name : Rajeshwar Voleti\n",
    "USN : 21BTRCD055\n",
    "CSE - Data Science ( 4 Semester )"
   ]
  },
  {
   "cell_type": "code",
   "execution_count": 40,
   "id": "7d31ffe3-6473-4554-b245-cdc08ef328af",
   "metadata": {},
   "outputs": [],
   "source": [
    "import pandas as pd\n",
    "import numpy as np\n",
    "import matplotlib.pyplot as plt\n",
    "import seaborn as sns"
   ]
  },
  {
   "cell_type": "code",
   "execution_count": 41,
   "id": "bd1bab64-2498-44f2-a287-4f2725f25858",
   "metadata": {},
   "outputs": [],
   "source": [
    "# Data Collection\n",
    "# Assuming you have a dataset in a CSV file named 'student_data.csv'\n",
    "data = pd.read_csv('Student Study data.csv')"
   ]
  },
  {
   "cell_type": "code",
   "execution_count": 42,
   "id": "e8fab660-7197-4835-b631-7a1688699ee9",
   "metadata": {},
   "outputs": [
    {
     "name": "stdout",
     "output_type": "stream",
     "text": [
      "     Name       Date        Day  Marital Status  Your gender?  study hour  \\\n",
      "0   Karim  28/6/2022     Sunday             1.0             1         4.0   \n",
      "1   Karim  29/6/2022     Monday             1.0             1         3.0   \n",
      "2   Karim  30/6/2022    Tuesday             1.0             1         3.0   \n",
      "3   Karim   1/7/2022  Wednesday             1.0             1         2.0   \n",
      "4   Karim   2/7/2022   Thursday             1.0             1         5.0   \n",
      "..    ...        ...        ...             ...           ...         ...   \n",
      "58  Sakif  30/6/2022    Tuesday             1.0             1         3.0   \n",
      "59  Sakif   1/7/2022  Wednesday             1.0             1         NaN   \n",
      "60  Sakif   2/7/2022   Thursday             1.0             1         3.0   \n",
      "61  Sakif   3/7/2022     Friday             NaN             1         4.0   \n",
      "62  Sakif   4/7/2022   Saturday             NaN             1         4.0   \n",
      "\n",
      "    your sleep hour?  weekend  what is your age? what is your cgpa  \n",
      "0                  6        0                 23       3.00 - 3.49  \n",
      "1                  6        0                 23       3.00 - 3.49  \n",
      "2                  7        0                 23       3.00 - 3.49  \n",
      "3                  5        0                 23       3.00 - 3.49  \n",
      "4                  6        0                 23       3.00 - 3.49  \n",
      "..               ...      ...                ...               ...  \n",
      "58                 6        0                 21       3.50 - 4.00  \n",
      "59                 6        0                 21       3.50 - 4.00  \n",
      "60                 6        0                 21       3.50 - 4.00  \n",
      "61                 7        1                 21       3.50 - 4.00  \n",
      "62                 7        1                 21       3.50 - 4.00  \n",
      "\n",
      "[63 rows x 10 columns]\n"
     ]
    }
   ],
   "source": [
    "print(data)"
   ]
  },
  {
   "cell_type": "code",
   "execution_count": 43,
   "id": "b09381f6-45c2-4eba-9b0a-2f02d86ff4ef",
   "metadata": {},
   "outputs": [],
   "source": [
    "# Data Cleaning\n",
    "# Removing duplicates\n",
    "data = data.drop_duplicates()"
   ]
  },
  {
   "cell_type": "code",
   "execution_count": 44,
   "id": "fe317620-9487-4ce7-b772-f84e19c2ea49",
   "metadata": {},
   "outputs": [],
   "source": [
    "# Handling missing values\n",
    "data = data.dropna()"
   ]
  },
  {
   "cell_type": "code",
   "execution_count": 45,
   "id": "ee2978f6-8f07-430d-a8c0-d624a39884ec",
   "metadata": {},
   "outputs": [],
   "source": [
    "# Data Encoding\n",
    "# Assuming you have categorical variables that need encoding\n",
    "# Example: Encoding the 'Gender' column using one-hot encoding\n",
    "encoded_data = pd.get_dummies(data, columns=['Your gender?'])"
   ]
  },
  {
   "cell_type": "code",
   "execution_count": 46,
   "id": "babfb0f9-5115-4c8e-b10d-9e2800847fea",
   "metadata": {},
   "outputs": [
    {
     "data": {
      "image/png": "[encoded data removed]",
      "text/plain": [
       "<Figure size 576x432 with 1 Axes>"
      ]
     },
     "metadata": {
      "needs_background": "light"
     },
     "output_type": "display_data"
    }
   ],
   "source": [
    "# Data Visualization\n",
    "# Example: Plotting a histogram of B.Tech Data Science results\n",
    "plt.figure(figsize=(8, 6))\n",
    "sns.histplot(data['what is your cgpa'], kde=True)\n",
    "plt.xlabel('Results')\n",
    "plt.ylabel('Frequency')\n",
    "plt.title('Distribution of B.Tech Data Science Results')\n",
    "plt.show()"
   ]
  },
  {
   "cell_type": "code",
   "execution_count": 47,
   "id": "08754fda-d154-47bd-a456-2eeb5adab36d",
   "metadata": {},
   "outputs": [
    {
     "data": {
      "image/png": "[encoded data removed]",
      "text/plain": [
       "<Figure size 576x432 with 1 Axes>"
      ]
     },
     "metadata": {
      "needs_background": "light"
     },
     "output_type": "display_data"
    }
   ],
   "source": [
    "# Example: Creating a scatter plot of results versus study hours\n",
    "plt.figure(figsize=(8, 6))\n",
    "sns.scatterplot(x=data['study hour'], y=data['what is your cgpa'])\n",
    "plt.xlabel('study hour')\n",
    "plt.ylabel('Results')\n",
    "plt.title('Results vs. study hour')\n",
    "plt.show()"
   ]
  }
 ],
 "metadata": {
  "kernelspec": {
   "display_name": "Python 3 (ipykernel)",
   "language": "python",
   "name": "python3"
  },
  "language_info": {
   "codemirror_mode": {
    "name": "ipython",
    "version": 3
   },
   "file_extension": ".py",
   "mimetype": "text/x-python",
   "name": "python",
   "nbconvert_exporter": "python",
   "pygments_lexer": "ipython3",
   "version": "3.9.12"
  }
 },
 "nbformat": 4,
 "nbformat_minor": 5
}
