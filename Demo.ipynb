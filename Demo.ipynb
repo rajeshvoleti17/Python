{
 "cells": [
  {
   "cell_type": "code",
   "execution_count": 2,
   "id": "38f3a118",
   "metadata": {},
   "outputs": [
    {
     "name": "stdout",
     "output_type": "stream",
     "text": [
      "Rajesh\n"
     ]
    }
   ],
   "source": [
    "print('Rajesh')"
   ]
  },
  {
   "cell_type": "markdown",
   "id": "a7680dcc",
   "metadata": {},
   "source": [
    "<b>Hello</b>"
   ]
  },
  {
   "cell_type": "markdown",
   "id": "50e674e5",
   "metadata": {},
   "source": [
    "<h1>Hello</h1>"
   ]
  },
  {
   "cell_type": "markdown",
   "id": "24019f87",
   "metadata": {},
   "source": [
    "<b>Welcome</b>"
   ]
  },
  {
   "cell_type": "markdown",
   "id": "5b4786f3",
   "metadata": {},
   "source": [
    "<b>rajesh</b>"
   ]
  },
  {
   "cell_type": "markdown",
   "id": "bef39758",
   "metadata": {},
   "source": [
    "<b>Hello</b>"
   ]
  },
  {
   "cell_type": "code",
   "execution_count": null,
   "id": "0a53600f",
   "metadata": {},
   "outputs": [],
   "source": []
  }
 ],
 "metadata": {
  "kernelspec": {
   "display_name": "Python 3 (ipykernel)",
   "language": "python",
   "name": "python3"
  },
  "language_info": {
   "codemirror_mode": {
    "name": "ipython",
    "version": 3
   },
   "file_extension": ".py",
   "mimetype": "text/x-python",
   "name": "python",
   "nbconvert_exporter": "python",
   "pygments_lexer": "ipython3",
   "version": "3.9.12"
  }
 },
 "nbformat": 4,
 "nbformat_minor": 5
}
