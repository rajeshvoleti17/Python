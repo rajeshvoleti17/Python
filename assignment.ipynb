{
 "cells": [
  {
   "cell_type": "markdown",
   "id": "fc9212c7-3977-4440-9fc1-ee239ca7f304",
   "metadata": {},
   "source": [
    "<b>Name : Rajeshwar Voleti\n",
    "USN : 21BTRCD055\n",
    "Branch : CSE - Data Science</b>"
   ]
  },
  {
   "cell_type": "markdown",
   "id": "3abeb9af-4d27-4c2f-843e-023afa3f9748",
   "metadata": {},
   "source": [
    "<b>1)Create a Dataset Of your Own House, Such that you are analysing dataset & its different variables using pandas methods.Also use dropna(), fillna(mean,median,mode), Encoding techniques-replace(),category().get_dummies,Sklearn-ordinalencoder().</b>"
   ]
  },
  {
   "cell_type": "markdown",
   "id": "2c42237b-4b3d-4e00-a25a-a85a9c6a9de1",
   "metadata": {},
   "source": [
    "Creating Dataset of Home"
   ]
  },
  {
   "cell_type": "code",
   "execution_count": 15,
   "id": "f0d548cc-7b9b-417a-8745-547b6a3e01c9",
   "metadata": {},
   "outputs": [
    {
     "name": "stdout",
     "output_type": "stream",
     "text": [
      "     Area  Bedrooms  Bathrooms   Age  Electricity_bill\n",
      "0  1500.0         3        2.0  15.0             100.0\n",
      "1  1800.0         3        2.0  10.0             110.0\n",
      "2  2200.0         4        3.0   8.0               NaN\n",
      "3  1800.0         2        2.0   NaN             120.0\n",
      "4     NaN         2        1.0   6.0              90.0\n",
      "5  2000.0         3        2.0   5.0             130.0\n",
      "6  1600.0         2        1.0  12.0              80.0\n",
      "7  1900.0         4        3.0  14.0             140.0\n",
      "8  1700.0         3        NaN   7.0              95.0\n",
      "9  2100.0         3        2.0   9.0             115.0\n"
     ]
    }
   ],
   "source": [
    "import pandas as pd\n",
    "import numpy as np\n",
    "\n",
    "data = {\n",
    "    'Area': [1500, 1800, 2200, 1800, np.nan, 2000, 1600, 1900, 1700, 2100],\n",
    "    'Bedrooms': [3, 3, 4, 2, 2, 3, 2, 4, 3, 3],\n",
    "    'Bathrooms': [2, 2, 3, 2, 1, 2, 1, 3, np.nan, 2],\n",
    "    'Age': [15, 10, 8, np.nan, 6, 5, 12, 14, 7, 9],\n",
    "    'Electricity_bill': [100, 110, np.nan, 120, 90, 130, 80, 140, 95, 115]\n",
    "}\n",
    "\n",
    "df = pd.DataFrame(data)\n",
    "print(df)"
   ]
  },
  {
   "cell_type": "markdown",
   "id": "adc25117-2103-4430-84dd-4ebb09eee770",
   "metadata": {},
   "source": [
    "Dropping Null values using dropna()"
   ]
  },
  {
   "cell_type": "code",
   "execution_count": 16,
   "id": "b07a0677-46dc-4975-afa1-60abb2858fc8",
   "metadata": {},
   "outputs": [
    {
     "name": "stdout",
     "output_type": "stream",
     "text": [
      "     Area  Bedrooms  Bathrooms   Age  Electricity_bill\n",
      "0  1500.0         3        2.0  15.0             100.0\n",
      "1  1800.0         3        2.0  10.0             110.0\n",
      "5  2000.0         3        2.0   5.0             130.0\n",
      "6  1600.0         2        1.0  12.0              80.0\n",
      "7  1900.0         4        3.0  14.0             140.0\n",
      "9  2100.0         3        2.0   9.0             115.0\n"
     ]
    }
   ],
   "source": [
    "new=df.dropna()\n",
    "print(new)"
   ]
  },
  {
   "cell_type": "markdown",
   "id": "6ea1b543-8105-4881-8688-0e76181290f6",
   "metadata": {},
   "source": [
    "Filling all null values with mean mode median using the method fillna()"
   ]
  },
  {
   "cell_type": "code",
   "execution_count": 17,
   "id": "faf2e713-cb8b-4598-ad02-522b880fe548",
   "metadata": {},
   "outputs": [
    {
     "name": "stdout",
     "output_type": "stream",
     "text": [
      "     Area  Bedrooms  Bathrooms   Age  Electricity_bill\n",
      "0  1500.0         3        2.0  15.0             100.0\n",
      "1  1800.0         3        2.0  10.0             110.0\n",
      "2  2200.0         4        3.0   8.0               2.9\n",
      "3  1800.0         2        2.0   2.9             120.0\n",
      "4     2.9         2        1.0   6.0              90.0\n",
      "5  2000.0         3        2.0   5.0             130.0\n",
      "6  1600.0         2        1.0  12.0              80.0\n",
      "7  1900.0         4        3.0  14.0             140.0\n",
      "8  1700.0         3        2.9   7.0              95.0\n",
      "9  2100.0         3        2.0   9.0             115.0\n"
     ]
    }
   ],
   "source": [
    "raj=df.fillna(df['Bedrooms'].mean())\n",
    "print(raj)"
   ]
  },
  {
   "cell_type": "code",
   "execution_count": 18,
   "id": "6e4aacb0-dbfa-490d-8ca7-02a862f10667",
   "metadata": {},
   "outputs": [
    {
     "name": "stdout",
     "output_type": "stream",
     "text": [
      "     Area  Bedrooms  Bathrooms   Age  Electricity_bill\n",
      "0  1500.0         3        2.0  15.0             100.0\n",
      "1  1800.0         3        2.0  10.0             110.0\n",
      "2  2200.0         4        3.0   8.0               NaN\n",
      "3  1800.0         2        2.0   NaN             120.0\n",
      "4     NaN         2        1.0   6.0              90.0\n",
      "5  2000.0         3        2.0   5.0             130.0\n",
      "6  1600.0         2        1.0  12.0              80.0\n",
      "7  1900.0         4        3.0  14.0             140.0\n",
      "8  1700.0         3        NaN   7.0              95.0\n",
      "9  2100.0         3        2.0   9.0             115.0\n"
     ]
    }
   ],
   "source": [
    "rajesh=df.fillna(df['Bathrooms'].mode())\n",
    "print(rajesh)"
   ]
  },
  {
   "cell_type": "code",
   "execution_count": 19,
   "id": "362df349-aae2-4e04-96a7-b7270756fb5c",
   "metadata": {},
   "outputs": [
    {
     "name": "stdout",
     "output_type": "stream",
     "text": [
      "     Area  Bedrooms  Bathrooms   Age  Electricity_bill\n",
      "0  1500.0         3        2.0  15.0             100.0\n",
      "1  1800.0         3        2.0  10.0             110.0\n",
      "2  2200.0         4        3.0   8.0               3.0\n",
      "3  1800.0         2        2.0   3.0             120.0\n",
      "4     3.0         2        1.0   6.0              90.0\n",
      "5  2000.0         3        2.0   5.0             130.0\n",
      "6  1600.0         2        1.0  12.0              80.0\n",
      "7  1900.0         4        3.0  14.0             140.0\n",
      "8  1700.0         3        3.0   7.0              95.0\n",
      "9  2100.0         3        2.0   9.0             115.0\n"
     ]
    }
   ],
   "source": [
    "rajeshwar=df.fillna(df['Bedrooms'].median())\n",
    "print(rajeshwar)"
   ]
  },
  {
   "cell_type": "markdown",
   "id": "382372c9-34ad-4b6d-b468-f880ac92b18f",
   "metadata": {},
   "source": [
    "Replacing the values using the method replace()"
   ]
  },
  {
   "cell_type": "code",
   "execution_count": 20,
   "id": "5c0ae8f3-e682-4b25-837a-3b4cb790939d",
   "metadata": {},
   "outputs": [
    {
     "name": "stdout",
     "output_type": "stream",
     "text": [
      "     Area  Bedrooms  Bathrooms   Age  Electricity_bill\n",
      "0  1500.0         5        2.0  15.0             100.0\n",
      "1  1800.0         5        2.0  10.0             110.0\n",
      "2  2200.0         4        5.0   8.0               NaN\n",
      "3  1800.0         2        2.0   NaN             120.0\n",
      "4     NaN         2        1.0   6.0              90.0\n",
      "5  2000.0         5        2.0   5.0             130.0\n",
      "6  1600.0         2        1.0  12.0              80.0\n",
      "7  1900.0         4        5.0  14.0             140.0\n",
      "8  1700.0         5        NaN   7.0              95.0\n",
      "9  2100.0         5        2.0   9.0             115.0\n"
     ]
    }
   ],
   "source": [
    "rajj=df.replace(3,5)\n",
    "print(rajj)"
   ]
  },
  {
   "cell_type": "code",
   "execution_count": 21,
   "id": "8389c8c1-933b-485e-80cf-4da7b31b9d93",
   "metadata": {},
   "outputs": [
    {
     "name": "stdout",
     "output_type": "stream",
     "text": [
      "[1, 2, 3, 1, 2, 3]\n",
      "Categories (3, int64): [1, 2, 3]\n",
      "['e', 'm', 'f', 'i', 'f', 'e', 'h', 'm']\n",
      "Categories (5, object): ['e', 'f', 'h', 'i', 'm']\n"
     ]
    }
   ],
   "source": [
    "c1 = pd.Categorical([1, 2, 3, 1, 2, 3])\n",
    "print (c1)\n",
    " \n",
    "c2 = pd.Categorical(['e', 'm', 'f', 'i',\n",
    "                     'f', 'e', 'h', 'm' ])\n",
    "print (c2)"
   ]
  },
  {
   "cell_type": "markdown",
   "id": "24f69dac-2caf-43d8-8afd-6cdd9a166e94",
   "metadata": {},
   "source": [
    "<b>2)Write short description of encoding & its methods</b>"
   ]
  },
  {
   "cell_type": "markdown",
   "id": "562cbdd9-c719-48ef-bcd9-f33888c0fba5",
   "metadata": {},
   "source": [
    "Encoding in Python refers to the process of converting data from one format to another. There are several encoding methods available in Python, including:\n",
    "\n",
    "1.ASCII encoding: This method converts ASCII characters to binary format.\n",
    "\n",
    "2.Unicode encoding: This method represents characters in a standard format, allowing for multilingual support.\n",
    "\n",
    "3.UTF-8 encoding: This is a variable-width encoding method that can represent any Unicode character.\n",
    "\n",
    "4.Base64 encoding: This method is used to convert binary data into ASCII characters, making it easier to transmit over text-based protocols."
   ]
  }
 ],
 "metadata": {
  "kernelspec": {
   "display_name": "Python 3 (ipykernel)",
   "language": "python",
   "name": "python3"
  },
  "language_info": {
   "codemirror_mode": {
    "name": "ipython",
    "version": 3
   },
   "file_extension": ".py",
   "mimetype": "text/x-python",
   "name": "python",
   "nbconvert_exporter": "python",
   "pygments_lexer": "ipython3",
   "version": "3.9.12"
  }
 },
 "nbformat": 4,
 "nbformat_minor": 5
}
